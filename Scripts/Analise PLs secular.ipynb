{
 "cells": [
  {
   "cell_type": "markdown",
   "metadata": {},
   "source": [
    "# Dowload e Mineração de Projetos de Lei"
   ]
  },
  {
   "cell_type": "markdown",
   "metadata": {},
   "source": [
    "1. A *primeira* parte do algorítimo baixa os arquivos em pdf da analisados;\n",
    "2. A *segunda* estapa busca nos textos desses documentos palavras-chave."
   ]
  },
  {
   "cell_type": "markdown",
   "metadata": {},
   "source": [
    "## *Primeira parte: modelo para baixar projetos de lei*"
   ]
  },
  {
   "cell_type": "markdown",
   "metadata": {},
   "source": [
    "### bibliotecas para a extração"
   ]
  },
  {
   "cell_type": "code",
   "execution_count": 2,
   "metadata": {},
   "outputs": [],
   "source": [
    "from tqdm.auto import tqdm\n",
    "import pandas as pd\n",
    "import requests\n",
    "import glob \n",
    "import os"
   ]
  },
  {
   "cell_type": "markdown",
   "metadata": {},
   "source": [
    "### importa banco de dados de proposições"
   ]
  },
  {
   "cell_type": "markdown",
   "metadata": {},
   "source": [
    "Utilizei o link das proposições para baixar os projetos de lei em PDF"
   ]
  },
  {
   "cell_type": "code",
   "execution_count": 3,
   "metadata": {},
   "outputs": [],
   "source": [
    "arquivo = r'.\\pl_evangélicos_carismáticos_Secular_54_55.xlsx'\n",
    "com = pd.read_excel(arquivo, header=0)"
   ]
  },
  {
   "cell_type": "markdown",
   "metadata": {},
   "source": [
    "### Algorítimo que faz o dowload dos arquivos pdf."
   ]
  },
  {
   "cell_type": "markdown",
   "metadata": {},
   "source": [
    "Vai notar, que cada arquivo possuirá um número, que refere-se ao ID da proposta.\n",
    "A partir do banco de dados dessas proposições *pl_evangélicos_carismáticos_Secular_54_55.xlsx*, poderá investigar \n",
    "outras informações dos PLs."
   ]
  },
  {
   "cell_type": "code",
   "execution_count": 3,
   "metadata": {},
   "outputs": [
    {
     "data": {
      "application/vnd.jupyter.widget-view+json": {
       "model_id": "88daf16c58e646338b2eb10f4de9d947",
       "version_major": 2,
       "version_minor": 0
      },
      "text/plain": [
       "HBox(children=(HTML(value=''), FloatProgress(value=0.0, max=159.0), HTML(value='')))"
      ]
     },
     "metadata": {},
     "output_type": "display_data"
    },
    {
     "name": "stdout",
     "output_type": "stream",
     "text": [
      "\n"
     ]
    }
   ],
   "source": [
    "def dowload_pdf_cd(url, loc=None):\n",
    "    if loc is None:\n",
    "            loc = os.path.basename(url.split(\"?\")[1].split(\"=\")[1] +'.pdf') # pega o ID do PL que será salvo com esse número.\n",
    "            res = requests.get(url, stream=True)\n",
    "            if res.status_code == requests.codes.OK:\n",
    "                with open(loc, 'wb') as data:\n",
    "                    for parte in res.iter_content(chunk_size=256):\n",
    "                        data.write(parte)\n",
    "                    else:\n",
    "                        res.raise_for_status()\n",
    "\n",
    "\n",
    "if __name__ == \"__main__\":\n",
    "    \n",
    "    for j in tqdm(com['complete_link']): # executa a função anterior\n",
    "        dowload_pdf_cd(j)\n"
   ]
  },
  {
   "cell_type": "markdown",
   "metadata": {},
   "source": [
    "## Segunda parte: data mining"
   ]
  },
  {
   "cell_type": "code",
   "execution_count": 37,
   "metadata": {},
   "outputs": [],
   "source": [
    "# Insira aqui o diretório onde os arquivos foram baixados\n",
    "\n",
    "e = r'C:\\Users\\Andre G\\Documents\\Pesquisa\\Scraping_Deputados\\Evangelicos\\Analise deputados Evangélicos\\Descrição completa da atividade parlamentar evangélicos(15-18)\\PLsSecular\\Projetos_Analisados'"
   ]
  },
  {
   "cell_type": "code",
   "execution_count": 38,
   "metadata": {},
   "outputs": [
    {
     "data": {
      "text/plain": [
       "<function nt.listdir(path=None)>"
      ]
     },
     "execution_count": 38,
     "metadata": {},
     "output_type": "execute_result"
    }
   ],
   "source": [
    "os.listdir"
   ]
  },
  {
   "cell_type": "code",
   "execution_count": 39,
   "metadata": {},
   "outputs": [
    {
     "data": {
      "text/plain": [
       "'C:\\\\Users\\\\Andre G\\\\Documents\\\\Pesquisa\\\\Scraping_Deputados\\\\Evangelicos\\\\Analise deputados Evangélicos\\\\Descrição completa da atividade parlamentar evangélicos(15-18)\\\\PLsSecular\\\\Projetos_Analisados\\\\1020940.pdf'"
      ]
     },
     "execution_count": 39,
     "metadata": {},
     "output_type": "execute_result"
    }
   ],
   "source": [
    "# lista os endereços com os nomes dos arquivos\n",
    "# junte o diretório com o nome dos arquivos, para realizar leitura.\n",
    "\n",
    "endereco = []\n",
    "for i in os.listdir('./Projetos_Analisados/'): # você poderá incluir o diretório, caso seja necessário.\n",
    "    local = e + \"\\\\\" + i\n",
    "    endereco.append(local)\n",
    "endereco[1]"
   ]
  },
  {
   "cell_type": "code",
   "execution_count": 116,
   "metadata": {},
   "outputs": [
    {
     "data": {
      "application/vnd.jupyter.widget-view+json": {
       "model_id": "37623a88636940e5983f1b8137e9818d",
       "version_major": 2,
       "version_minor": 0
      },
      "text/plain": [
       "HBox(children=(HTML(value=''), FloatProgress(value=0.0, max=157.0), HTML(value='')))"
      ]
     },
     "metadata": {},
     "output_type": "display_data"
    },
    {
     "name": "stdout",
     "output_type": "stream",
     "text": [
      "['Página: 2 | proposta => 1240635.pdf', <re.Match object; span=(201, 217), match='empreendedorismo'>]\n",
      "['Página: 2 | proposta => 1318507.pdf', <re.Match object; span=(480, 496), match='empreendedorismo'>]\n",
      "['Página: 7 | proposta => 900010.pdf', <re.Match object; span=(516, 532), match='empreendedorismo'>]\n",
      "\n"
     ]
    }
   ],
   "source": [
    "# Esse script acessa os endereços gerados anteriormente. \n",
    "# Ele abre os documentos, acessa cada página e faz uma busca em seu interior pelo termo.\n",
    "# O termo de nossa pesauisa foi \"empreendedorismo\".\n",
    "\n",
    "#Importa bibliotecas\n",
    "\n",
    "import os\n",
    "import PyPDF2\n",
    "import re\n",
    "\n",
    "er = [] # lista de arquivos que não foram analisados, por algum erro.\n",
    "\n",
    "# algorítimo que acessa os pdfs, a partir da lista de endereços gerados anteriomente.\n",
    "for arquivo in tqdm(endereco[1:]):\n",
    "    try:\n",
    "        nome = arquivo.split()[8].split('\\\\')[3] # copia a numeração referente ao \n",
    "        object = PyPDF2.PdfFileReader(arquivo, 'rb')\n",
    "        \n",
    "        # obter o número das páginas\n",
    "        NumPages = object.getNumPages()\n",
    "\n",
    "        # termos da busca nos pdf´s\n",
    "        String = \"empreendeder|empreendedorismo\"\n",
    "\n",
    "        # extrai o texto e realiza a busca\n",
    "        for i in range(0, NumPages):\n",
    "            PageObj = object.getPage(i)\n",
    "            Text = PageObj.extractText()\n",
    "            ResSearch = re.search(String, Text)\n",
    "            if ResSearch == None:\n",
    "                continue\n",
    "            else:\n",
    "                print([\"Página: \" + str(i) + \" | proposta => \" + nome, ResSearch])\n",
    "                                      \n",
    "    except Exception:\n",
    "        error = nome\n",
    "        er.append(error)\n",
    "        pass\n",
    "        "
   ]
  },
  {
   "cell_type": "code",
   "execution_count": null,
   "metadata": {},
   "outputs": [],
   "source": [
    "# lista de textos não analisados\n",
    "er"
   ]
  }
 ],
 "metadata": {
  "kernelspec": {
   "display_name": "Python 3",
   "language": "python",
   "name": "python3"
  },
  "language_info": {
   "codemirror_mode": {
    "name": "ipython",
    "version": 3
   },
   "file_extension": ".py",
   "mimetype": "text/x-python",
   "name": "python",
   "nbconvert_exporter": "python",
   "pygments_lexer": "ipython3",
   "version": "3.8.5"
  }
 },
 "nbformat": 4,
 "nbformat_minor": 4
}
